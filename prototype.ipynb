{
 "cells": [
  {
   "cell_type": "code",
   "execution_count": 12,
   "metadata": {},
   "outputs": [],
   "source": [
    "import polars as pl\n",
    "from sqlalchemy.engine import create_engine\n",
    "import unicodedata\n",
    "import requests\n",
    "import zipfile\n",
    "import io"
   ]
  },
  {
   "cell_type": "code",
   "execution_count": 13,
   "metadata": {},
   "outputs": [],
   "source": [
    "url = \"https://portaldatransparencia.gov.br/download-de-dados/despesas-favorecidos/{year}{month}\".format(\n",
    "    year=\"2024\", month=\"05\"\n",
    ")"
   ]
  },
  {
   "cell_type": "code",
   "execution_count": 14,
   "metadata": {},
   "outputs": [],
   "source": [
    "response = requests.get(url, stream=True)\n",
    "zip_data = zipfile.ZipFile(io.BytesIO(response.content))\n",
    "csv = zip_data.namelist()[0]\n",
    "file = zip_data.open(csv).read()"
   ]
  },
  {
   "cell_type": "code",
   "execution_count": 15,
   "metadata": {},
   "outputs": [],
   "source": [
    "df = pl.read_csv(\n",
    "    file,\n",
    "    separator=\";\",\n",
    "    encoding=\"1252\",\n",
    "    decimal_comma=True,\n",
    ")\n",
    "\n",
    "df.columns = [\n",
    "    unicodedata.normalize(\"NFD\", col.lower().replace(\" \", \"_\"))\n",
    "    .encode(\"ascii\", \"ignore\")\n",
    "    .decode(\"utf-8\")\n",
    "    for col in df.columns\n",
    "]\n",
    "\n",
    "df = df.with_columns(pl.col(\"ano_e_mes_do_lancamento\").str.strptime(pl.Date, \"%m/%Y\"))"
   ]
  },
  {
   "cell_type": "code",
   "execution_count": 16,
   "metadata": {},
   "outputs": [
    {
     "data": {
      "text/plain": [
       "OrderedDict([('codigo_favorecido', String),\n",
       "             ('nome_favorecido', String),\n",
       "             ('sigla_uf', String),\n",
       "             ('nome_municipio', String),\n",
       "             ('codigo_orgao_superior', Int64),\n",
       "             ('nome_orgao_superior', String),\n",
       "             ('codigo_orgao', Int64),\n",
       "             ('nome_orgao', String),\n",
       "             ('codigo_unidade_gestora', Int64),\n",
       "             ('nome_unidade_gestora', String),\n",
       "             ('ano_e_mes_do_lancamento', Date),\n",
       "             ('valor_recebido', Float64)])"
      ]
     },
     "execution_count": 16,
     "metadata": {},
     "output_type": "execute_result"
    }
   ],
   "source": [
    "# df.select(pl.col([\"nome_favorecido\", \"nome_municipio\", \"valor_recebido\"])).sort(by=pl.col(\"valor_recebido\"), descending=True).head(10)\n",
    "df.schema"
   ]
  }
 ],
 "metadata": {
  "kernelspec": {
   "display_name": ".venv",
   "language": "python",
   "name": "python3"
  },
  "language_info": {
   "codemirror_mode": {
    "name": "ipython",
    "version": 3
   },
   "file_extension": ".py",
   "mimetype": "text/x-python",
   "name": "python",
   "nbconvert_exporter": "python",
   "pygments_lexer": "ipython3",
   "version": "3.12.4"
  }
 },
 "nbformat": 4,
 "nbformat_minor": 2
}
